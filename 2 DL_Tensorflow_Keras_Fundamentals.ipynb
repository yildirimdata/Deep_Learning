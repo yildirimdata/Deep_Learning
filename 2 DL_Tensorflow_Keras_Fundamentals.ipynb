{
 "cells": [
  {
   "cell_type": "markdown",
   "id": "c4a45980-5c39-4ed2-9e7d-267a28ba1311",
   "metadata": {},
   "source": [
    "# Keras and TensorFlow"
   ]
  },
  {
   "cell_type": "markdown",
   "id": "5a64fe08-2c21-4bb5-87e1-f96f429a626c",
   "metadata": {},
   "source": [
    "Tensorflow is the most popular library used to build Deep Learning models. However, it is a low-level library and it's not easy to work with Tensorflow. On the other hand, Keras is a high-level API that is built on top of TensorFlow. Keras uses Tensorflow for its backend. It is extremely user-friendly and much easier than TensorFlow. \n",
    "\n",
    "- Keras sequential() function, allows us to create the model and add layers to it. \n",
    "- Dense represents the type of layer. Other layer types are Convolutional Layers, Pooling Layers, etc."
   ]
  },
  {
   "cell_type": "code",
   "execution_count": 5,
   "id": "de5c7058-8ff4-4976-97cd-d456bc0f9282",
   "metadata": {
    "tags": []
   },
   "outputs": [],
   "source": [
    "# !pip install tensorflow"
   ]
  },
  {
   "cell_type": "code",
   "execution_count": 6,
   "id": "ba07533c-9bd8-430d-ad21-a876bcfd6ae3",
   "metadata": {},
   "outputs": [],
   "source": [
    "import tensorflow as tf\n",
    "from tensorflow import keras\n",
    "\n",
    "# to avoid the warning messages from tensorflow\n",
    "# import os\n",
    "# os.environ['TF_CPP_MIN_LOG_LEVEL'] = '2'"
   ]
  },
  {
   "cell_type": "code",
   "execution_count": 19,
   "id": "1b26d01d-ffda-4f3e-9776-c57417485525",
   "metadata": {},
   "outputs": [],
   "source": [
    "from keras.models import Sequential\n",
    "from keras.layers import Activation\n",
    "from keras.layers.core import Dense\n",
    "from keras.optimizers import Adam"
   ]
  },
  {
   "cell_type": "code",
   "execution_count": 20,
   "id": "2be1fc91-a28e-4cf0-a4d7-41cc19c8dd02",
   "metadata": {},
   "outputs": [],
   "source": [
    "# creating a model\n",
    "\n",
    "model = Sequential()\n",
    "model.add(Dense(4,activation='relu')) # add first hidden layer with 4 neurons - act func RectifiedLinearUnit\n",
    "model.add(Dense(4,activation='relu')) # add second hidden layer with 4 neurons\n",
    "model.add(Dense(4,activation='relu')) # addd third hidden layer with 4 neurons\n",
    "model.add(Dense(1))                   # add output layer with 1 neuron\n",
    "model.compile(optimizer='rmsprop',loss='mse') "
   ]
  },
  {
   "cell_type": "code",
   "execution_count": 22,
   "id": "592eedd4-60f5-465e-8896-12f01dfb6cbb",
   "metadata": {},
   "outputs": [],
   "source": [
    "# train the model\n",
    "# model.fit(X_train,y_train,epochs=250)"
   ]
  },
  {
   "cell_type": "markdown",
   "id": "55e32f8c-b122-4553-bcb4-bd742c0a8868",
   "metadata": {},
   "source": [
    "**Let's interpret the given code**:\n",
    "\n",
    "- **Keras Sequential()** function, allows us to create the model and add layers to it. \n",
    "- **Dense** represent the type of layer (Types: Dense Layer, Convolutional Layers, Pooling Layers, etc)\n",
    "- Each hidden layer has 4 neurons (nodes). (We can increase or decrease this value)\n",
    "- The activation function relu has been chosen in all layers. \n",
    "- Function rmsprop  is chosen as the optimizer method and the method mean squared error  chosen as the loss function."
   ]
  },
  {
   "cell_type": "markdown",
   "id": "4010d7dd-c3f8-4813-b8ce-072b03ec26eb",
   "metadata": {},
   "source": [
    "**What is Epochs?**\n",
    "\n",
    "According to the Cambridge Dictionary, the epoch means: \"a long period of time, especially one in which there are new developments and great change\"\n",
    "\n",
    "One epoch in Deep Learning terminology means, the entire dataset is passed forward and backward through the neural network once. In other words, an epoch refers to one cycle through the full training dataset. Training a neural network usually takes more than a few epochs.\n",
    "\n",
    "For example;\n",
    "\n",
    "model.fit(X_train,y_train,epochs=250)\n",
    "\n",
    "In this model, the entire dataset will be passed forward and backward 250 times through the neural network for the training purpose. That means there will be 250 training cycles."
   ]
  },
  {
   "cell_type": "markdown",
   "id": "64942575-8543-4b97-8b00-71e2c602d2f0",
   "metadata": {},
   "source": [
    "**What is Batch Size?**\n",
    "\n",
    "Batch size is a term used in deep learning and refers to the **number of training examples utilized in one iteration**. We can’t pass the entire dataset into the neural net at once. We need to divide the dataset into a number of batches or sets. \n",
    "\n",
    "**\"The smaller the batch size the longer the training takes.\"**"
   ]
  },
  {
   "cell_type": "markdown",
   "id": "7337dad3-18c0-40f9-a685-28f4162b0094",
   "metadata": {},
   "source": [
    "**Overfitting and regularization**\n",
    "\n",
    "Overfitting(not generalizing) problem occurs for all machine learning and deep learning models if our model is doing well on training data, but not able to perform similar on test data. **Strategies used to prevent overfitting is called in general as regularization methods**. Early stopping is one of regularization techniques such that if accuracy on validation set is not improving, we stop instead of going through all epochs. Also we can deactivate random nodes in network and make a single model behave like different network everytime during training. This technique is called **dropout**."
   ]
  },
  {
   "cell_type": "code",
   "execution_count": null,
   "id": "7c698b63-cb27-4839-93a7-fc5628e53ada",
   "metadata": {},
   "outputs": [],
   "source": []
  }
 ],
 "metadata": {
  "kernelspec": {
   "display_name": "Python 3 (ipykernel)",
   "language": "python",
   "name": "python3"
  },
  "language_info": {
   "codemirror_mode": {
    "name": "ipython",
    "version": 3
   },
   "file_extension": ".py",
   "mimetype": "text/x-python",
   "name": "python",
   "nbconvert_exporter": "python",
   "pygments_lexer": "ipython3",
   "version": "3.9.12"
  }
 },
 "nbformat": 4,
 "nbformat_minor": 5
}
